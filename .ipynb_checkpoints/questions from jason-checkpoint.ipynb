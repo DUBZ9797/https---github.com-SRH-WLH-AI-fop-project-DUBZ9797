{
 "cells": [
  {
   "cell_type": "code",
   "execution_count": 1,
   "id": "07e10e38",
   "metadata": {},
   "outputs": [
    {
     "name": "stdout",
     "output_type": "stream",
     "text": [
      "{'questions': [{'id': 1, 'questionText': 'What is the capital of France?', 'options': ['Paris', 'London', 'Berlin', 'Madrid'], 'correctAnswer': 'Paris'}, {'id': 2, 'questionText': \"Which element has the chemical symbol 'O'?\", 'options': ['Gold', 'Oxygen', 'Silver', 'Helium'], 'correctAnswer': 'Oxygen'}, {'id': 3, 'questionText': 'What is the largest planet in our solar system?', 'options': ['Earth', 'Mars', 'Jupiter', 'Saturn'], 'correctAnswer': 'Jupiter'}]}\n"
     ]
    }
   ],
   "source": [
    "import json\n",
    " \n",
    "# Assuming 'questions.json' is in the same directory as this script\n",
    "filename = 'questions.json'\n",
    " \n",
    "try:\n",
    "    with open(filename, 'r') as file:\n",
    "        data = json.load(file)\n",
    "    print(data)\n",
    "except FileNotFoundError:\n",
    "    print(f\"File not found: {filename}\")\n",
    "except Exception as e:\n",
    "    print(f\"An error occurred: {e}\")"
   ]
  },
  {
   "cell_type": "code",
   "execution_count": null,
   "id": "3b2b72fb",
   "metadata": {},
   "outputs": [],
   "source": []
  }
 ],
 "metadata": {
  "kernelspec": {
   "display_name": "Python 3 (ipykernel)",
   "language": "python",
   "name": "python3"
  },
  "language_info": {
   "codemirror_mode": {
    "name": "ipython",
    "version": 3
   },
   "file_extension": ".py",
   "mimetype": "text/x-python",
   "name": "python",
   "nbconvert_exporter": "python",
   "pygments_lexer": "ipython3",
   "version": "3.11.5"
  }
 },
 "nbformat": 4,
 "nbformat_minor": 5
}
